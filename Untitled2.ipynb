{
  "nbformat": 4,
  "nbformat_minor": 0,
  "metadata": {
    "colab": {
      "provenance": [],
      "authorship_tag": "ABX9TyM+9/mhdr559Vo+bQJ+BpqO",
      "include_colab_link": true
    },
    "kernelspec": {
      "name": "python3",
      "display_name": "Python 3"
    },
    "language_info": {
      "name": "python"
    }
  },
  "cells": [
    {
      "cell_type": "markdown",
      "metadata": {
        "id": "view-in-github",
        "colab_type": "text"
      },
      "source": [
        "<a href=\"https://colab.research.google.com/github/ibrahimtam-bit/tsla-analysis-app/blob/main/Untitled2.ipynb\" target=\"_parent\"><img src=\"https://colab.research.google.com/assets/colab-badge.svg\" alt=\"Open In Colab\"/></a>"
      ]
    },
    {
      "cell_type": "code",
      "source": [
        "import pandas as pd\n",
        "import requests\n",
        "from datetime import datetime\n",
        "import time\n",
        "from IPython.display import display, HTML\n",
        "import matplotlib.pyplot as plt\n",
        "\n",
        "def alpha_vantage_hisse_verisi_cek(sembol, interval, api_key):\n",
        "    print(f\"[{datetime.now().strftime('%Y-%m-%d %H:%M:%S')}] {sembol} verisi çekiliyor...\")\n",
        "    url = f\"https://www.alphavantage.co/query\"\n",
        "    params = {\n",
        "        \"function\": \"TIME_SERIES_INTRADAY\",\n",
        "        \"symbol\": sembol,\n",
        "        \"interval\": interval,\n",
        "        \"apikey\": api_key,\n",
        "        \"outputsize\": \"compact\"\n",
        "    }\n",
        "\n",
        "    response = requests.get(url, params=params)\n",
        "    data = response.json()\n",
        "\n",
        "    key = f\"Time Series ({interval})\"\n",
        "    if key not in data:\n",
        "        print(\"Veri alınamadı:\", data.get(\"Note\", data.get(\"Error Message\", \"Bilinmeyen hata\")))\n",
        "        return None\n",
        "\n",
        "    df = pd.DataFrame.from_dict(data[key], orient='index')\n",
        "    df.columns = [\"Open\", \"High\", \"Low\", \"Close\", \"Volume\"]\n",
        "    df = df.astype(float)\n",
        "    df.index = pd.to_datetime(df.index)\n",
        "    df = df.sort_index()\n",
        "    return df\n",
        "\n",
        "def hesapla_indikatorler(df):\n",
        "    close = df[\"Close\"]\n",
        "    ema12 = close.ewm(span=12, adjust=False).mean()\n",
        "    ema26 = close.ewm(span=26, adjust=False).mean()\n",
        "    macd = ema12 - ema26\n",
        "    signal = macd.ewm(span=9, adjust=False).mean()\n",
        "\n",
        "    delta = close.diff()\n",
        "    gain = delta.clip(lower=0)\n",
        "    loss = -delta.clip(upper=0)\n",
        "    avg_gain = gain.rolling(14).mean()\n",
        "    avg_loss = loss.rolling(14).mean()\n",
        "    rs = avg_gain / avg_loss\n",
        "    rsi = 100 - (100 / (1 + rs))\n",
        "\n",
        "    ma20 = close.rolling(20).mean()\n",
        "\n",
        "    df[\"MACD\"] = macd\n",
        "    df[\"Signal\"] = signal\n",
        "    df[\"RSI\"] = rsi\n",
        "    df[\"MA20\"] = ma20\n",
        "\n",
        "    return df\n",
        "\n",
        "def al_sat_fikri(df):\n",
        "    son_kapanis = df[\"Close\"].iloc[-1]\n",
        "    son_macd = df[\"MACD\"].iloc[-1]\n",
        "    son_signal = df[\"Signal\"].iloc[-1]\n",
        "    son_rsi = df[\"RSI\"].iloc[-1]\n",
        "    son_ma20 = df[\"MA20\"].iloc[-1]\n",
        "\n",
        "    fikirler = []\n",
        "\n",
        "    if son_macd > son_signal:\n",
        "        fikirler.append(\"📈 MACD: Al sinyali\")\n",
        "    else:\n",
        "        fikirler.append(\"📉 MACD: Sat sinyali\")\n",
        "\n",
        "    if son_rsi < 30:\n",
        "        fikirler.append(\"🟢 RSI: Aşırı satım → AL\")\n",
        "    elif son_rsi > 70:\n",
        "        fikirler.append(\"🔴 RSI: Aşırı alım → SAT\")\n",
        "    else:\n",
        "        fikirler.append(\"⚪ RSI: Nötr\")\n",
        "\n",
        "    if son_kapanis > son_ma20:\n",
        "        fikirler.append(\"🟢 Fiyat MA20 üstünde → AL\")\n",
        "    else:\n",
        "        fikirler.append(\"🔴 Fiyat MA20 altında → SAT\")\n",
        "\n",
        "    return fikirler\n",
        "\n",
        "def tabloyu_goster(df):\n",
        "    df_show = df[[\"Open\", \"High\", \"Low\", \"Close\"]].tail(6).copy()\n",
        "    df_show.index.name = \"Zaman\"\n",
        "    display(HTML(\"<h4 style='color:#004080;'>📊 Son 1 Saatlik Fiyat Verileri:</h4>\"))\n",
        "    styled_df = df_show.style.set_table_attributes(\"style='display:inline'\")\\\n",
        "        .set_caption(\"Son Veriler\")\\\n",
        "        .format(\"{:.2f}\")\\\n",
        "        .set_properties(**{'font-weight': 'bold'}, subset=pd.IndexSlice[:, [\"Open\", \"High\", \"Low\", \"Close\"]])\n",
        "    display(styled_df)\n",
        "\n",
        "def fikirleri_goster(fikirler):\n",
        "    display(HTML(\"<h3 style='color:#006400;'>📌 AL / SAT Fikri:</h3>\"))\n",
        "    for fikir in fikirler:\n",
        "        renk = \"#007700\" if \"AL\" in fikir else \"#BB0000\" if \"SAT\" in fikir else \"#000000\"\n",
        "        display(HTML(f\"<p style='font-size:16px; color:{renk}; font-weight:bold;'>{fikir}</p>\"))\n",
        "\n",
        "# Parametreler\n",
        "api_key = \"YOUR_ALPHA_VANTAGE_API_KEY\"\n",
        "sembol = \"TSLA\"\n",
        "interval = \"60min\"\n",
        "\n",
        "# Veri çekme\n",
        "df = alpha_vantage_hisse_verisi_cek(sembol, interval, api_key)\n",
        "\n",
        "if df is not None:\n",
        "    df = hesapla_indikatorler(df)\n",
        "    son_df = df.last(\"6H\").copy()\n",
        "    tabloyu_goster(son_df)\n",
        "    fikirler = al_sat_fikri(son_df)\n",
        "    fikirleri_goster(fikirler)"
      ],
      "metadata": {
        "colab": {
          "base_uri": "https://localhost:8080/",
          "height": 525
        },
        "id": "zqgfZl_a30LQ",
        "outputId": "ad12eb8a-43b2-41a1-da7a-873de55361b7"
      },
      "execution_count": 28,
      "outputs": [
        {
          "output_type": "stream",
          "name": "stdout",
          "text": [
            "[2025-05-06 18:32:55] TSLA verisi çekiliyor...\n"
          ]
        },
        {
          "output_type": "stream",
          "name": "stderr",
          "text": [
            "<ipython-input-28-de9322bcb9ce>:112: FutureWarning: last is deprecated and will be removed in a future version. Please create a mask and filter using `.loc` instead\n",
            "  son_df = df.last(\"6H\").copy()\n",
            "<ipython-input-28-de9322bcb9ce>:112: FutureWarning: 'H' is deprecated and will be removed in a future version, please use 'h' instead.\n",
            "  son_df = df.last(\"6H\").copy()\n"
          ]
        },
        {
          "output_type": "display_data",
          "data": {
            "text/plain": [
              "<IPython.core.display.HTML object>"
            ],
            "text/html": [
              "<h4 style='color:#004080;'>📊 Son 1 Saatlik Fiyat Verileri:</h4>"
            ]
          },
          "metadata": {}
        },
        {
          "output_type": "display_data",
          "data": {
            "text/plain": [
              "<pandas.io.formats.style.Styler at 0x7925c3de2510>"
            ],
            "text/html": [
              "<style type=\"text/css\">\n",
              "#T_7381d_row0_col0, #T_7381d_row0_col1, #T_7381d_row0_col2, #T_7381d_row0_col3, #T_7381d_row1_col0, #T_7381d_row1_col1, #T_7381d_row1_col2, #T_7381d_row1_col3, #T_7381d_row2_col0, #T_7381d_row2_col1, #T_7381d_row2_col2, #T_7381d_row2_col3, #T_7381d_row3_col0, #T_7381d_row3_col1, #T_7381d_row3_col2, #T_7381d_row3_col3, #T_7381d_row4_col0, #T_7381d_row4_col1, #T_7381d_row4_col2, #T_7381d_row4_col3, #T_7381d_row5_col0, #T_7381d_row5_col1, #T_7381d_row5_col2, #T_7381d_row5_col3 {\n",
              "  font-weight: bold;\n",
              "}\n",
              "</style>\n",
              "<table id=\"T_7381d\" class=\"dataframe\">\n",
              "  <caption>Son Veriler</caption>\n",
              "  <thead>\n",
              "    <tr>\n",
              "      <th class=\"blank level0\" >&nbsp;</th>\n",
              "      <th id=\"T_7381d_level0_col0\" class=\"col_heading level0 col0\" >Open</th>\n",
              "      <th id=\"T_7381d_level0_col1\" class=\"col_heading level0 col1\" >High</th>\n",
              "      <th id=\"T_7381d_level0_col2\" class=\"col_heading level0 col2\" >Low</th>\n",
              "      <th id=\"T_7381d_level0_col3\" class=\"col_heading level0 col3\" >Close</th>\n",
              "    </tr>\n",
              "    <tr>\n",
              "      <th class=\"index_name level0\" >Zaman</th>\n",
              "      <th class=\"blank col0\" >&nbsp;</th>\n",
              "      <th class=\"blank col1\" >&nbsp;</th>\n",
              "      <th class=\"blank col2\" >&nbsp;</th>\n",
              "      <th class=\"blank col3\" >&nbsp;</th>\n",
              "    </tr>\n",
              "  </thead>\n",
              "  <tbody>\n",
              "    <tr>\n",
              "      <th id=\"T_7381d_level0_row0\" class=\"row_heading level0 row0\" >2025-05-05 14:00:00</th>\n",
              "      <td id=\"T_7381d_row0_col0\" class=\"data row0 col0\" >280.18</td>\n",
              "      <td id=\"T_7381d_row0_col1\" class=\"data row0 col1\" >283.39</td>\n",
              "      <td id=\"T_7381d_row0_col2\" class=\"data row0 col2\" >279.90</td>\n",
              "      <td id=\"T_7381d_row0_col3\" class=\"data row0 col3\" >281.40</td>\n",
              "    </tr>\n",
              "    <tr>\n",
              "      <th id=\"T_7381d_level0_row1\" class=\"row_heading level0 row1\" >2025-05-05 15:00:00</th>\n",
              "      <td id=\"T_7381d_row1_col0\" class=\"data row1 col0\" >281.43</td>\n",
              "      <td id=\"T_7381d_row1_col1\" class=\"data row1 col1\" >282.73</td>\n",
              "      <td id=\"T_7381d_row1_col2\" class=\"data row1 col2\" >279.27</td>\n",
              "      <td id=\"T_7381d_row1_col3\" class=\"data row1 col3\" >280.21</td>\n",
              "    </tr>\n",
              "    <tr>\n",
              "      <th id=\"T_7381d_level0_row2\" class=\"row_heading level0 row2\" >2025-05-05 16:00:00</th>\n",
              "      <td id=\"T_7381d_row2_col0\" class=\"data row2 col0\" >280.21</td>\n",
              "      <td id=\"T_7381d_row2_col1\" class=\"data row2 col1\" >298.24</td>\n",
              "      <td id=\"T_7381d_row2_col2\" class=\"data row2 col2\" >269.88</td>\n",
              "      <td id=\"T_7381d_row2_col3\" class=\"data row2 col3\" >279.16</td>\n",
              "    </tr>\n",
              "    <tr>\n",
              "      <th id=\"T_7381d_level0_row3\" class=\"row_heading level0 row3\" >2025-05-05 17:00:00</th>\n",
              "      <td id=\"T_7381d_row3_col0\" class=\"data row3 col0\" >279.18</td>\n",
              "      <td id=\"T_7381d_row3_col1\" class=\"data row3 col1\" >298.24</td>\n",
              "      <td id=\"T_7381d_row3_col2\" class=\"data row3 col2\" >251.94</td>\n",
              "      <td id=\"T_7381d_row3_col3\" class=\"data row3 col3\" >278.71</td>\n",
              "    </tr>\n",
              "    <tr>\n",
              "      <th id=\"T_7381d_level0_row4\" class=\"row_heading level0 row4\" >2025-05-05 18:00:00</th>\n",
              "      <td id=\"T_7381d_row4_col0\" class=\"data row4 col0\" >278.69</td>\n",
              "      <td id=\"T_7381d_row4_col1\" class=\"data row4 col1\" >280.26</td>\n",
              "      <td id=\"T_7381d_row4_col2\" class=\"data row4 col2\" >278.10</td>\n",
              "      <td id=\"T_7381d_row4_col3\" class=\"data row4 col3\" >278.30</td>\n",
              "    </tr>\n",
              "    <tr>\n",
              "      <th id=\"T_7381d_level0_row5\" class=\"row_heading level0 row5\" >2025-05-05 19:00:00</th>\n",
              "      <td id=\"T_7381d_row5_col0\" class=\"data row5 col0\" >278.35</td>\n",
              "      <td id=\"T_7381d_row5_col1\" class=\"data row5 col1\" >280.26</td>\n",
              "      <td id=\"T_7381d_row5_col2\" class=\"data row5 col2\" >278.04</td>\n",
              "      <td id=\"T_7381d_row5_col3\" class=\"data row5 col3\" >278.25</td>\n",
              "    </tr>\n",
              "  </tbody>\n",
              "</table>\n"
            ]
          },
          "metadata": {}
        },
        {
          "output_type": "display_data",
          "data": {
            "text/plain": [
              "<IPython.core.display.HTML object>"
            ],
            "text/html": [
              "<h3 style='color:#006400;'>📌 AL / SAT Fikri:</h3>"
            ]
          },
          "metadata": {}
        },
        {
          "output_type": "display_data",
          "data": {
            "text/plain": [
              "<IPython.core.display.HTML object>"
            ],
            "text/html": [
              "<p style='font-size:16px; color:#000000; font-weight:bold;'>📉 MACD: Sat sinyali</p>"
            ]
          },
          "metadata": {}
        },
        {
          "output_type": "display_data",
          "data": {
            "text/plain": [
              "<IPython.core.display.HTML object>"
            ],
            "text/html": [
              "<p style='font-size:16px; color:#007700; font-weight:bold;'>🟢 RSI: Aşırı satım → AL</p>"
            ]
          },
          "metadata": {}
        },
        {
          "output_type": "display_data",
          "data": {
            "text/plain": [
              "<IPython.core.display.HTML object>"
            ],
            "text/html": [
              "<p style='font-size:16px; color:#BB0000; font-weight:bold;'>🔴 Fiyat MA20 altında → SAT</p>"
            ]
          },
          "metadata": {}
        }
      ]
    }
  ]
}